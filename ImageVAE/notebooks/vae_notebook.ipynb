{
 "cells": [
  {
   "cell_type": "markdown",
   "metadata": {},
   "source": [
    "Test VAE model on random frame of random file in `record`"
   ]
  },
  {
   "cell_type": "code",
   "execution_count": 1,
   "metadata": {
    "scrolled": true
   },
   "outputs": [],
   "source": [
    "import numpy as np\n",
    "import os, sys\n",
    "import json\n",
    "import tensorflow as tf\n",
    "import random\n",
    "\n",
    "import matplotlib.pyplot as plt\n",
    "np.set_printoptions(precision=4, edgeitems=6, linewidth=100, suppress=True)\n",
    "\n",
    "from ipywidgets import interact\n",
    "\n",
    "sys.path.append(\"..\")\n",
    "from vae import ConvVAE, reset_graph\n"
   ]
  },
  {
   "cell_type": "code",
   "execution_count": 2,
   "metadata": {},
   "outputs": [],
   "source": [
    "os.environ[\"CUDA_VISIBLE_DEVICES\"]=\"-1\" # disable GPU\n",
    "\n",
    "#DATA_DIR = \"../../data/ear\"\n",
    "model_path_name = \"../models\"\n",
    "\n",
    "z_size=10\n",
    "sample_n = 8"
   ]
  },
  {
   "cell_type": "code",
   "execution_count": 3,
   "metadata": {},
   "outputs": [],
   "source": [
    "#obs = np.load(os.path.join(DATA_DIR, random.choice(filelist)))\n",
    "#obs = np.load(os.path.join(DATA_DIR, \"packed_imgs_64.npy\"))\n",
    "obs = np.load(\"/home/markpp/github/building-datasets-for-successful-machine-learning/data/cell_top.npy\")[:]\n",
    "obs = obs.astype(np.float32)/255"
   ]
  },
  {
   "cell_type": "code",
   "execution_count": 4,
   "metadata": {
    "scrolled": false
   },
   "outputs": [
    {
     "data": {
      "image/png": "[encoded data removed]",
      "text/plain": [
       "<Figure size 432x288 with 1 Axes>"
      ]
     },
     "metadata": {
      "needs_background": "light"
     },
     "output_type": "display_data"
    }
   ],
   "source": [
    "obs.shape\n",
    "test=obs[sample_n]\n",
    "test.shape\n",
    "plt.imshow(test[...,::-1])\n",
    "plt.show()"
   ]
  },
  {
   "cell_type": "code",
   "execution_count": 5,
   "metadata": {},
   "outputs": [
    {
     "name": "stdout",
     "output_type": "stream",
     "text": [
      "points_notebook.ipynb  vae_notebook.ipynb\r\n"
     ]
    }
   ],
   "source": [
    "!ls"
   ]
  },
  {
   "cell_type": "code",
   "execution_count": 6,
   "metadata": {},
   "outputs": [
    {
     "name": "stdout",
     "output_type": "stream",
     "text": [
      "INFO:tensorflow:Model using cpu.\n",
      "input: Tensor(\"Placeholder:0\", shape=(?, 64, 64, 3), dtype=float32)\n",
      "(?, 31, 31, 32)\n",
      "(?, 14, 14, 64)\n",
      "(?, 6, 6, 128)\n",
      "(?, 2, 2, 256)\n",
      "(?, 1024)\n",
      "z: (?, 10)\n",
      "(?, 1024)\n",
      "(?, 1, 1, 1024)\n",
      "(?, 5, 5, 128)\n",
      "(?, 13, 13, 64)\n",
      "(?, 30, 30, 32)\n",
      "output: Tensor(\"dec_deconv4/Sigmoid:0\", shape=(?, 64, 64, 3), dtype=float32)\n"
     ]
    }
   ],
   "source": [
    "vae = ConvVAE(z_size=z_size,\n",
    "              batch_size=1,\n",
    "              is_training=False,\n",
    "              reuse=False,\n",
    "              gpu_mode=False)\n",
    "\n",
    "vae.load_json(os.path.join(model_path_name, 'vae__40_29999.json'))"
   ]
  },
  {
   "cell_type": "code",
   "execution_count": 7,
   "metadata": {},
   "outputs": [],
   "source": [
    "def show_rec():\n",
    "    z = np.array(my_z)\n",
    "    z = np.expand_dims(z, axis=0)\n",
    "    reconstruct = vae.decode(z)\n",
    "    # show reconstruction\n",
    "    #plt.subplot(1, 2, 1)\n",
    "    #plt.imshow(obs[sample_n])\n",
    "    plt.subplot(1, 2, 2)\n",
    "    plt.imshow(reconstruct[0][...,::-1])\n",
    "    plt.show()"
   ]
  },
  {
   "cell_type": "code",
   "execution_count": 8,
   "metadata": {},
   "outputs": [],
   "source": [
    "batch_z = vae.encode(obs)"
   ]
  },
  {
   "cell_type": "code",
   "execution_count": 9,
   "metadata": {},
   "outputs": [
    {
     "data": {
      "text/plain": [
       "array([ 0.5979, -0.3846, -0.0809, -0.3871, -1.1579,  0.6644, -0.0704, -0.6268,  0.7544,  0.3542], dtype=float32)"
      ]
     },
     "execution_count": 9,
     "metadata": {},
     "output_type": "execute_result"
    }
   ],
   "source": [
    "global my_z\n",
    "my_z = batch_z[sample_n]\n",
    "my_z"
   ]
  },
  {
   "cell_type": "code",
   "execution_count": 10,
   "metadata": {},
   "outputs": [],
   "source": [
    "def f(z0=my_z[0],z1=my_z[1],z2=my_z[2],z3=my_z[3],z4=my_z[4],\n",
    "      z5=my_z[5],z6=my_z[6],z7=my_z[7],z8=my_z[8],z9=my_z[9]):\n",
    "    my_z[0] = z0\n",
    "    my_z[1] = z1\n",
    "    my_z[2] = z2\n",
    "    my_z[3] = z3\n",
    "    my_z[4] = z4\n",
    "    my_z[5] = z5\n",
    "    my_z[6] = z6\n",
    "    my_z[7] = z7\n",
    "    my_z[8] = z8\n",
    "    my_z[9] = z9\n",
    "    show_rec()\n",
    "    "
   ]
  },
  {
   "cell_type": "code",
   "execution_count": 11,
   "metadata": {
    "scrolled": false
   },
   "outputs": [
    {
     "data": {
      "application/vnd.jupyter.widget-view+json": {
       "model_id": "1ce6eee79dee4dff9eb3f632f7bd88a2",
       "version_major": 2,
       "version_minor": 0
      },
      "text/plain": [
       "interactive(children=(FloatSlider(value=0.5978999733924866, description='z0', max=3.0, min=-3.0), FloatSlider(…"
      ]
     },
     "metadata": {},
     "output_type": "display_data"
    }
   ],
   "source": [
    "z_min = -3.0\n",
    "z_max = 3.0\n",
    "interact(f, z0=(z_min,z_max),z1=(z_min,z_max),z2=(z_min,z_max),\n",
    "            z3=(z_min,z_max),z4=(z_min,z_max),z5=(z_min,z_max),\n",
    "            z6=(z_min,z_max),z7=(z_min,z_max),z8=(z_min,z_max),\n",
    "            z9=(z_min,z_max));"
   ]
  },
  {
   "cell_type": "code",
   "execution_count": 12,
   "metadata": {},
   "outputs": [
    {
     "ename": "NameError",
     "evalue": "name 'reconstruct' is not defined",
     "output_type": "error",
     "traceback": [
      "\u001b[0;31m---------------------------------------------------------------------------\u001b[0m",
      "\u001b[0;31mNameError\u001b[0m                                 Traceback (most recent call last)",
      "\u001b[0;32m<ipython-input-12-8b02f154bc67>\u001b[0m in \u001b[0;36m<module>\u001b[0;34m\u001b[0m\n\u001b[0;32m----> 1\u001b[0;31m \u001b[0mplt\u001b[0m\u001b[0;34m.\u001b[0m\u001b[0mimshow\u001b[0m\u001b[0;34m(\u001b[0m\u001b[0mreconstruct\u001b[0m\u001b[0;34m[\u001b[0m\u001b[0;36m0\u001b[0m\u001b[0;34m]\u001b[0m\u001b[0;34m[\u001b[0m\u001b[0;34m...\u001b[0m\u001b[0;34m,\u001b[0m\u001b[0;34m:\u001b[0m\u001b[0;34m:\u001b[0m\u001b[0;34m-\u001b[0m\u001b[0;36m1\u001b[0m\u001b[0;34m]\u001b[0m\u001b[0;34m)\u001b[0m\u001b[0;34m\u001b[0m\u001b[0;34m\u001b[0m\u001b[0m\n\u001b[0m",
      "\u001b[0;31mNameError\u001b[0m: name 'reconstruct' is not defined"
     ]
    }
   ],
   "source": [
    "my_z = batch_z[sample_n]\n",
    "plt.imshow(reconstruct[0][...,::-1])"
   ]
  },
  {
   "cell_type": "code",
   "execution_count": 11,
   "metadata": {},
   "outputs": [
    {
     "ename": "IndexError",
     "evalue": "index 3 is out of bounds for axis 2 with size 3",
     "output_type": "error",
     "traceback": [
      "\u001b[0;31m---------------------------------------------------------------------------\u001b[0m",
      "\u001b[0;31mIndexError\u001b[0m                                Traceback (most recent call last)",
      "\u001b[0;32m<ipython-input-11-0e11b02baa71>\u001b[0m in \u001b[0;36m<module>\u001b[0;34m\u001b[0m\n\u001b[1;32m      2\u001b[0m \u001b[0mplt\u001b[0m\u001b[0;34m.\u001b[0m\u001b[0mimshow\u001b[0m\u001b[0;34m(\u001b[0m\u001b[0mobs\u001b[0m\u001b[0;34m[\u001b[0m\u001b[0msample_n\u001b[0m\u001b[0;34m]\u001b[0m\u001b[0;34m[\u001b[0m\u001b[0;34m:\u001b[0m\u001b[0;34m,\u001b[0m\u001b[0;34m:\u001b[0m\u001b[0;34m,\u001b[0m\u001b[0;34m:\u001b[0m\u001b[0;34m]\u001b[0m\u001b[0;34m)\u001b[0m\u001b[0;34m\u001b[0m\u001b[0;34m\u001b[0m\u001b[0m\n\u001b[1;32m      3\u001b[0m \u001b[0mplt\u001b[0m\u001b[0;34m.\u001b[0m\u001b[0msubplot\u001b[0m\u001b[0;34m(\u001b[0m\u001b[0;36m1\u001b[0m\u001b[0;34m,\u001b[0m \u001b[0;36m2\u001b[0m\u001b[0;34m,\u001b[0m \u001b[0;36m2\u001b[0m\u001b[0;34m)\u001b[0m\u001b[0;34m\u001b[0m\u001b[0;34m\u001b[0m\u001b[0m\n\u001b[0;32m----> 4\u001b[0;31m \u001b[0mplt\u001b[0m\u001b[0;34m.\u001b[0m\u001b[0mimshow\u001b[0m\u001b[0;34m(\u001b[0m\u001b[0mobs\u001b[0m\u001b[0;34m[\u001b[0m\u001b[0msample_n\u001b[0m\u001b[0;34m]\u001b[0m\u001b[0;34m[\u001b[0m\u001b[0;34m:\u001b[0m\u001b[0;34m,\u001b[0m\u001b[0;34m:\u001b[0m\u001b[0;34m,\u001b[0m\u001b[0;36m3\u001b[0m\u001b[0;34m]\u001b[0m\u001b[0;34m,\u001b[0m \u001b[0mcmap\u001b[0m\u001b[0;34m=\u001b[0m\u001b[0;34m'gray'\u001b[0m\u001b[0;34m)\u001b[0m\u001b[0;34m\u001b[0m\u001b[0;34m\u001b[0m\u001b[0m\n\u001b[0m\u001b[1;32m      5\u001b[0m \u001b[0mplt\u001b[0m\u001b[0;34m.\u001b[0m\u001b[0mshow\u001b[0m\u001b[0;34m(\u001b[0m\u001b[0;34m)\u001b[0m\u001b[0;34m\u001b[0m\u001b[0;34m\u001b[0m\u001b[0m\n",
      "\u001b[0;31mIndexError\u001b[0m: index 3 is out of bounds for axis 2 with size 3"
     ]
    },
    {
     "data": {
      "image/png": "[encoded data removed]",
      "text/plain": [
       "<Figure size 432x288 with 2 Axes>"
      ]
     },
     "metadata": {
      "needs_background": "light"
     },
     "output_type": "display_data"
    }
   ],
   "source": [
    "plt.subplot(1, 2, 1)\n",
    "plt.imshow(obs[sample_n][:,:,:])\n",
    "plt.subplot(1, 2, 2)\n",
    "plt.imshow(obs[sample_n][:,:,3], cmap='gray')\n",
    "plt.show()"
   ]
  },
  {
   "cell_type": "code",
   "execution_count": 12,
   "metadata": {},
   "outputs": [
    {
     "data": {
      "text/plain": [
       "array([[[ 0.3686,  0.3922,  0.5255],\n",
       "        [ 0.3765,  0.4039,  0.5333],\n",
       "        [ 0.3686,  0.3961,  0.5255],\n",
       "        [ 0.3765,  0.4039,  0.5333],\n",
       "        [ 0.4275,  0.451 ,  0.5882],\n",
       "        [ 0.4196,  0.4431,  0.5804],\n",
       "        ..., \n",
       "        [ 0.1176,  0.0824,  0.2275],\n",
       "        [ 0.0039,  0.    ,  0.1216],\n",
       "        [ 0.0471,  0.0275,  0.1961],\n",
       "        [ 0.1804,  0.102 ,  0.3843],\n",
       "        [ 0.2549,  0.1451,  0.502 ],\n",
       "        [ 0.2588,  0.1412,  0.5294]],\n",
       "\n",
       "       [[ 0.3647,  0.3882,  0.5255],\n",
       "        [ 0.3647,  0.3922,  0.5255],\n",
       "        [ 0.3647,  0.3922,  0.5216],\n",
       "        [ 0.3804,  0.4078,  0.5373],\n",
       "        [ 0.4039,  0.4275,  0.5647],\n",
       "        [ 0.4   ,  0.4235,  0.5608],\n",
       "        ..., \n",
       "        [ 0.1647,  0.1294,  0.2588],\n",
       "        [ 0.    ,  0.    ,  0.1255],\n",
       "        [ 0.0588,  0.0353,  0.2196],\n",
       "        [ 0.2039,  0.1216,  0.4196],\n",
       "        [ 0.2471,  0.1333,  0.4941],\n",
       "        [ 0.2471,  0.1255,  0.5059]],\n",
       "\n",
       "       [[ 0.3725,  0.3961,  0.5373],\n",
       "        [ 0.3647,  0.3922,  0.5255],\n",
       "        [ 0.3647,  0.3961,  0.5216],\n",
       "        [ 0.3804,  0.4078,  0.5373],\n",
       "        [ 0.3843,  0.4118,  0.549 ],\n",
       "        [ 0.3843,  0.4118,  0.549 ],\n",
       "        ..., \n",
       "        [ 0.0863,  0.0667,  0.1608],\n",
       "        [ 0.0627,  0.0392,  0.1882],\n",
       "        [ 0.1647,  0.102 ,  0.3608],\n",
       "        [ 0.2039,  0.102 ,  0.4431],\n",
       "        [ 0.2353,  0.1176,  0.4824],\n",
       "        [ 0.3098,  0.1922,  0.5569]],\n",
       "\n",
       "       [[ 0.3765,  0.4   ,  0.5412],\n",
       "        [ 0.3725,  0.4   ,  0.5333],\n",
       "        [ 0.3686,  0.4   ,  0.5294],\n",
       "        [ 0.3725,  0.4039,  0.5373],\n",
       "        [ 0.3843,  0.4196,  0.5529],\n",
       "        [ 0.3804,  0.4118,  0.5451],\n",
       "        ..., \n",
       "        [ 0.0118,  0.    ,  0.0627],\n",
       "        [ 0.098 ,  0.0549,  0.2275],\n",
       "        [ 0.2157,  0.1098,  0.4392],\n",
       "        [ 0.1569,  0.0431,  0.4157],\n",
       "        [ 0.1686,  0.0588,  0.4118],\n",
       "        [ 0.2275,  0.1294,  0.4667]],\n",
       "\n",
       "       [[ 0.3765,  0.4   ,  0.5373],\n",
       "        [ 0.3765,  0.4039,  0.5333],\n",
       "        [ 0.3686,  0.4   ,  0.5294],\n",
       "        [ 0.3647,  0.3961,  0.5294],\n",
       "        [ 0.3804,  0.4157,  0.5451],\n",
       "        [ 0.3725,  0.4118,  0.5412],\n",
       "        ..., \n",
       "        [ 0.0157,  0.    ,  0.0549],\n",
       "        [ 0.1137,  0.0627,  0.2431],\n",
       "        [ 0.2392,  0.1216,  0.4745],\n",
       "        [ 0.1608,  0.0392,  0.4353],\n",
       "        [ 0.1529,  0.0431,  0.4078],\n",
       "        [ 0.1333,  0.0353,  0.3725]],\n",
       "\n",
       "       [[ 0.3725,  0.3961,  0.5294],\n",
       "        [ 0.3686,  0.4   ,  0.5294],\n",
       "        [ 0.3569,  0.3922,  0.5216],\n",
       "        [ 0.349 ,  0.3882,  0.5137],\n",
       "        [ 0.349 ,  0.3882,  0.5137],\n",
       "        [ 0.3529,  0.3961,  0.5216],\n",
       "        ..., \n",
       "        [ 0.0157,  0.    ,  0.0549],\n",
       "        [ 0.1529,  0.102 ,  0.2824],\n",
       "        [ 0.3373,  0.2157,  0.5725],\n",
       "        [ 0.2549,  0.1098,  0.5333],\n",
       "        [ 0.2588,  0.1176,  0.5216],\n",
       "        [ 0.251 ,  0.1216,  0.498 ]],\n",
       "\n",
       "       ..., \n",
       "       [[ 0.2392,  0.2314,  0.3216],\n",
       "        [ 0.1922,  0.1843,  0.2588],\n",
       "        [ 0.1333,  0.1333,  0.1804],\n",
       "        [ 0.    ,  0.    ,  0.0196],\n",
       "        [ 0.0039,  0.0039,  0.0157],\n",
       "        [ 0.0863,  0.0863,  0.1137],\n",
       "        ..., \n",
       "        [ 0.4471,  0.4471,  0.502 ],\n",
       "        [ 0.3686,  0.3804,  0.3843],\n",
       "        [ 0.    ,  0.0078,  0.    ],\n",
       "        [ 0.1059,  0.1098,  0.102 ],\n",
       "        [ 0.5608,  0.5647,  0.549 ],\n",
       "        [ 0.6745,  0.6706,  0.6588]],\n",
       "\n",
       "       [[ 0.1529,  0.1529,  0.2   ],\n",
       "        [ 0.2275,  0.2275,  0.2667],\n",
       "        [ 0.1412,  0.1451,  0.1647],\n",
       "        [ 0.    ,  0.0039,  0.0039],\n",
       "        [ 0.    ,  0.0039,  0.0039],\n",
       "        [ 0.    ,  0.    ,  0.0078],\n",
       "        ..., \n",
       "        [ 0.5216,  0.5216,  0.5725],\n",
       "        [ 0.3608,  0.3725,  0.3804],\n",
       "        [ 0.0039,  0.0078,  0.    ],\n",
       "        [ 0.1294,  0.1373,  0.1176],\n",
       "        [ 0.651 ,  0.651 ,  0.6314],\n",
       "        [ 0.6902,  0.6941,  0.6627]],\n",
       "\n",
       "       [[ 0.0431,  0.0471,  0.0588],\n",
       "        [ 0.0902,  0.0941,  0.1059],\n",
       "        [ 0.0549,  0.0627,  0.0627],\n",
       "        [ 0.0039,  0.0157,  0.0039],\n",
       "        [ 0.    ,  0.0039,  0.    ],\n",
       "        [ 0.    ,  0.0039,  0.    ],\n",
       "        ..., \n",
       "        [ 0.4039,  0.3961,  0.4588],\n",
       "        [ 0.1373,  0.1412,  0.1569],\n",
       "        [ 0.0039,  0.0039,  0.0039],\n",
       "        [ 0.1294,  0.1333,  0.1216],\n",
       "        [ 0.6627,  0.6588,  0.6431],\n",
       "        [ 0.6706,  0.6667,  0.6314]],\n",
       "\n",
       "       [[ 0.2824,  0.2902,  0.2863],\n",
       "        [ 0.2745,  0.2824,  0.2784],\n",
       "        [ 0.2078,  0.2196,  0.2039],\n",
       "        [ 0.0039,  0.0157,  0.    ],\n",
       "        [ 0.    ,  0.0078,  0.0039],\n",
       "        [ 0.    ,  0.0039,  0.    ],\n",
       "        ..., \n",
       "        [ 0.4078,  0.3922,  0.4667],\n",
       "        [ 0.1961,  0.1961,  0.2235],\n",
       "        [ 0.0039,  0.    ,  0.0078],\n",
       "        [ 0.0706,  0.0667,  0.0667],\n",
       "        [ 0.3647,  0.3569,  0.3451],\n",
       "        [ 0.6588,  0.651 ,  0.6235]],\n",
       "\n",
       "       [[ 0.5569,  0.5647,  0.5569],\n",
       "        [ 0.5373,  0.5451,  0.5333],\n",
       "        [ 0.451 ,  0.4627,  0.451 ],\n",
       "        [ 0.2235,  0.2275,  0.2235],\n",
       "        [ 0.2314,  0.2353,  0.2353],\n",
       "        [ 0.0157,  0.0196,  0.0157],\n",
       "        ..., \n",
       "        [ 0.451 ,  0.4314,  0.5176],\n",
       "        [ 0.3843,  0.3765,  0.4157],\n",
       "        [ 0.0039,  0.    ,  0.0196],\n",
       "        [ 0.0196,  0.0039,  0.0157],\n",
       "        [ 0.0745,  0.0588,  0.0549],\n",
       "        [ 0.6745,  0.6627,  0.6431]],\n",
       "\n",
       "       [[ 0.5725,  0.5725,  0.5647],\n",
       "        [ 0.5529,  0.5529,  0.5451],\n",
       "        [ 0.5412,  0.5412,  0.5412],\n",
       "        [ 0.549 ,  0.5451,  0.549 ],\n",
       "        [ 0.5608,  0.5569,  0.5647],\n",
       "        [ 0.2118,  0.2118,  0.2118],\n",
       "        ..., \n",
       "        [ 0.4431,  0.4196,  0.5059],\n",
       "        [ 0.3922,  0.3804,  0.4235],\n",
       "        [ 0.0078,  0.    ,  0.0235],\n",
       "        [ 0.0588,  0.0431,  0.0549],\n",
       "        [ 0.2588,  0.2431,  0.2392],\n",
       "        [ 0.6784,  0.6667,  0.6471]]], dtype=float32)"
      ]
     },
     "execution_count": 12,
     "metadata": {},
     "output_type": "execute_result"
    }
   ],
   "source": [
    "obs[sample_n]"
   ]
  },
  {
   "cell_type": "code",
   "execution_count": null,
   "metadata": {},
   "outputs": [],
   "source": []
  },
  {
   "cell_type": "code",
   "execution_count": null,
   "metadata": {},
   "outputs": [],
   "source": []
  }
 ],
 "metadata": {
  "kernelspec": {
   "display_name": "Python 3",
   "language": "python",
   "name": "python3"
  },
  "language_info": {
   "codemirror_mode": {
    "name": "ipython",
    "version": 3
   },
   "file_extension": ".py",
   "mimetype": "text/x-python",
   "name": "python",
   "nbconvert_exporter": "python",
   "pygments_lexer": "ipython3",
   "version": "3.5.2"
  }
 },
 "nbformat": 4,
 "nbformat_minor": 2
}
